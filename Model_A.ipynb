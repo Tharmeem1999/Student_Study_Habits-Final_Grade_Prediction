{
 "cells": [
  {
   "cell_type": "code",
   "execution_count": 1,
   "id": "9f648ff5-f863-47e9-aeca-07504758ee32",
   "metadata": {},
   "outputs": [],
   "source": [
    "import pandas as pd"
   ]
  },
  {
   "cell_type": "code",
   "execution_count": null,
   "id": "dc8cb293-9ad1-46f7-8f75-f1be26511d94",
   "metadata": {},
   "outputs": [],
   "source": [
    "# loading the file"
   ]
  },
  {
   "cell_type": "code",
   "execution_count": 2,
   "id": "88bda141-39b6-4d61-abd9-b364e5ad8415",
   "metadata": {},
   "outputs": [],
   "source": [
    "df = pd.read_csv('ssh.csv')"
   ]
  },
  {
   "cell_type": "code",
   "execution_count": 3,
   "id": "84f1ac9b-c872-458d-93fc-558caff54dd7",
   "metadata": {},
   "outputs": [
    {
     "data": {
      "text/html": [
       "<div>\n",
       "<style scoped>\n",
       "    .dataframe tbody tr th:only-of-type {\n",
       "        vertical-align: middle;\n",
       "    }\n",
       "\n",
       "    .dataframe tbody tr th {\n",
       "        vertical-align: top;\n",
       "    }\n",
       "\n",
       "    .dataframe thead th {\n",
       "        text-align: right;\n",
       "    }\n",
       "</style>\n",
       "<table border=\"1\" class=\"dataframe\">\n",
       "  <thead>\n",
       "    <tr style=\"text-align: right;\">\n",
       "      <th></th>\n",
       "      <th>study_hours_per_week</th>\n",
       "      <th>sleep_hours_per_day</th>\n",
       "      <th>attendance_percentage</th>\n",
       "      <th>assignments_completed</th>\n",
       "      <th>final_grade</th>\n",
       "      <th>participation_level_Low</th>\n",
       "      <th>participation_level_Medium</th>\n",
       "      <th>internet_access_Yes</th>\n",
       "      <th>parental_education_High School</th>\n",
       "      <th>parental_education_Master's</th>\n",
       "      <th>parental_education_PhD</th>\n",
       "      <th>extracurricular_Yes</th>\n",
       "      <th>part_time_job_Yes</th>\n",
       "    </tr>\n",
       "  </thead>\n",
       "  <tbody>\n",
       "    <tr>\n",
       "      <th>0</th>\n",
       "      <td>0.527230</td>\n",
       "      <td>0.685236</td>\n",
       "      <td>0.993245</td>\n",
       "      <td>0.222222</td>\n",
       "      <td>71.104897</td>\n",
       "      <td>0.0</td>\n",
       "      <td>1.0</td>\n",
       "      <td>1.0</td>\n",
       "      <td>0.0</td>\n",
       "      <td>0.0</td>\n",
       "      <td>0.0</td>\n",
       "      <td>1.0</td>\n",
       "      <td>0.0</td>\n",
       "    </tr>\n",
       "    <tr>\n",
       "      <th>1</th>\n",
       "      <td>0.421400</td>\n",
       "      <td>0.881883</td>\n",
       "      <td>0.883478</td>\n",
       "      <td>0.555556</td>\n",
       "      <td>62.240021</td>\n",
       "      <td>0.0</td>\n",
       "      <td>1.0</td>\n",
       "      <td>1.0</td>\n",
       "      <td>0.0</td>\n",
       "      <td>0.0</td>\n",
       "      <td>0.0</td>\n",
       "      <td>0.0</td>\n",
       "      <td>0.0</td>\n",
       "    </tr>\n",
       "    <tr>\n",
       "      <th>2</th>\n",
       "      <td>0.552393</td>\n",
       "      <td>0.220286</td>\n",
       "      <td>0.683469</td>\n",
       "      <td>1.000000</td>\n",
       "      <td>65.268855</td>\n",
       "      <td>0.0</td>\n",
       "      <td>1.0</td>\n",
       "      <td>1.0</td>\n",
       "      <td>0.0</td>\n",
       "      <td>0.0</td>\n",
       "      <td>0.0</td>\n",
       "      <td>1.0</td>\n",
       "      <td>0.0</td>\n",
       "    </tr>\n",
       "    <tr>\n",
       "      <th>3</th>\n",
       "      <td>0.698283</td>\n",
       "      <td>0.612594</td>\n",
       "      <td>0.520094</td>\n",
       "      <td>0.222222</td>\n",
       "      <td>66.609921</td>\n",
       "      <td>1.0</td>\n",
       "      <td>0.0</td>\n",
       "      <td>1.0</td>\n",
       "      <td>0.0</td>\n",
       "      <td>0.0</td>\n",
       "      <td>0.0</td>\n",
       "      <td>1.0</td>\n",
       "      <td>0.0</td>\n",
       "    </tr>\n",
       "    <tr>\n",
       "      <th>4</th>\n",
       "      <td>0.405419</td>\n",
       "      <td>0.369871</td>\n",
       "      <td>0.831127</td>\n",
       "      <td>0.333333</td>\n",
       "      <td>58.967484</td>\n",
       "      <td>0.0</td>\n",
       "      <td>1.0</td>\n",
       "      <td>1.0</td>\n",
       "      <td>1.0</td>\n",
       "      <td>0.0</td>\n",
       "      <td>0.0</td>\n",
       "      <td>1.0</td>\n",
       "      <td>0.0</td>\n",
       "    </tr>\n",
       "  </tbody>\n",
       "</table>\n",
       "</div>"
      ],
      "text/plain": [
       "   study_hours_per_week  sleep_hours_per_day  attendance_percentage  \\\n",
       "0              0.527230             0.685236               0.993245   \n",
       "1              0.421400             0.881883               0.883478   \n",
       "2              0.552393             0.220286               0.683469   \n",
       "3              0.698283             0.612594               0.520094   \n",
       "4              0.405419             0.369871               0.831127   \n",
       "\n",
       "   assignments_completed  final_grade  participation_level_Low  \\\n",
       "0               0.222222    71.104897                      0.0   \n",
       "1               0.555556    62.240021                      0.0   \n",
       "2               1.000000    65.268855                      0.0   \n",
       "3               0.222222    66.609921                      1.0   \n",
       "4               0.333333    58.967484                      0.0   \n",
       "\n",
       "   participation_level_Medium  internet_access_Yes  \\\n",
       "0                         1.0                  1.0   \n",
       "1                         1.0                  1.0   \n",
       "2                         1.0                  1.0   \n",
       "3                         0.0                  1.0   \n",
       "4                         1.0                  1.0   \n",
       "\n",
       "   parental_education_High School  parental_education_Master's  \\\n",
       "0                             0.0                          0.0   \n",
       "1                             0.0                          0.0   \n",
       "2                             0.0                          0.0   \n",
       "3                             0.0                          0.0   \n",
       "4                             1.0                          0.0   \n",
       "\n",
       "   parental_education_PhD  extracurricular_Yes  part_time_job_Yes  \n",
       "0                     0.0                  1.0                0.0  \n",
       "1                     0.0                  0.0                0.0  \n",
       "2                     0.0                  1.0                0.0  \n",
       "3                     0.0                  1.0                0.0  \n",
       "4                     0.0                  1.0                0.0  "
      ]
     },
     "execution_count": 3,
     "metadata": {},
     "output_type": "execute_result"
    }
   ],
   "source": [
    "df.head()"
   ]
  },
  {
   "cell_type": "code",
   "execution_count": null,
   "id": "9563b515-a276-4b1c-8fe5-b02b193dda80",
   "metadata": {},
   "outputs": [],
   "source": [
    "# checking the dimensions"
   ]
  },
  {
   "cell_type": "code",
   "execution_count": 4,
   "id": "c24a6eef-7b97-4594-bb40-3b63fe59dfed",
   "metadata": {},
   "outputs": [
    {
     "data": {
      "text/plain": [
       "(500, 13)"
      ]
     },
     "execution_count": 4,
     "metadata": {},
     "output_type": "execute_result"
    }
   ],
   "source": [
    "df.shape"
   ]
  },
  {
   "cell_type": "code",
   "execution_count": null,
   "id": "ca389af7-a48d-453d-9d2a-1c7f5979b94d",
   "metadata": {},
   "outputs": [],
   "source": [
    "# general overview of the DataFrame"
   ]
  },
  {
   "cell_type": "code",
   "execution_count": 5,
   "id": "0275280a-f20f-4bda-b5e4-10b448d3ba6a",
   "metadata": {},
   "outputs": [
    {
     "name": "stdout",
     "output_type": "stream",
     "text": [
      "<class 'pandas.core.frame.DataFrame'>\n",
      "RangeIndex: 500 entries, 0 to 499\n",
      "Data columns (total 13 columns):\n",
      " #   Column                          Non-Null Count  Dtype  \n",
      "---  ------                          --------------  -----  \n",
      " 0   study_hours_per_week            500 non-null    float64\n",
      " 1   sleep_hours_per_day             500 non-null    float64\n",
      " 2   attendance_percentage           500 non-null    float64\n",
      " 3   assignments_completed           500 non-null    float64\n",
      " 4   final_grade                     500 non-null    float64\n",
      " 5   participation_level_Low         500 non-null    float64\n",
      " 6   participation_level_Medium      500 non-null    float64\n",
      " 7   internet_access_Yes             500 non-null    float64\n",
      " 8   parental_education_High School  500 non-null    float64\n",
      " 9   parental_education_Master's     500 non-null    float64\n",
      " 10  parental_education_PhD          500 non-null    float64\n",
      " 11  extracurricular_Yes             500 non-null    float64\n",
      " 12  part_time_job_Yes               500 non-null    float64\n",
      "dtypes: float64(13)\n",
      "memory usage: 50.9 KB\n"
     ]
    }
   ],
   "source": [
    "df.info()"
   ]
  },
  {
   "cell_type": "code",
   "execution_count": null,
   "id": "27359a67-9504-458a-9344-badeca541ba8",
   "metadata": {},
   "outputs": [],
   "source": [
    "# summary of statistics"
   ]
  },
  {
   "cell_type": "code",
   "execution_count": 6,
   "id": "4fc003d4-fef1-40d6-8796-6017aa5b39b2",
   "metadata": {},
   "outputs": [
    {
     "data": {
      "text/html": [
       "<div>\n",
       "<style scoped>\n",
       "    .dataframe tbody tr th:only-of-type {\n",
       "        vertical-align: middle;\n",
       "    }\n",
       "\n",
       "    .dataframe tbody tr th {\n",
       "        vertical-align: top;\n",
       "    }\n",
       "\n",
       "    .dataframe thead th {\n",
       "        text-align: right;\n",
       "    }\n",
       "</style>\n",
       "<table border=\"1\" class=\"dataframe\">\n",
       "  <thead>\n",
       "    <tr style=\"text-align: right;\">\n",
       "      <th></th>\n",
       "      <th>study_hours_per_week</th>\n",
       "      <th>sleep_hours_per_day</th>\n",
       "      <th>attendance_percentage</th>\n",
       "      <th>assignments_completed</th>\n",
       "      <th>final_grade</th>\n",
       "      <th>participation_level_Low</th>\n",
       "      <th>participation_level_Medium</th>\n",
       "      <th>internet_access_Yes</th>\n",
       "      <th>parental_education_High School</th>\n",
       "      <th>parental_education_Master's</th>\n",
       "      <th>parental_education_PhD</th>\n",
       "      <th>extracurricular_Yes</th>\n",
       "      <th>part_time_job_Yes</th>\n",
       "    </tr>\n",
       "  </thead>\n",
       "  <tbody>\n",
       "    <tr>\n",
       "      <th>count</th>\n",
       "      <td>500.000000</td>\n",
       "      <td>500.000000</td>\n",
       "      <td>500.000000</td>\n",
       "      <td>500.000000</td>\n",
       "      <td>500.000000</td>\n",
       "      <td>500.000000</td>\n",
       "      <td>500.000000</td>\n",
       "      <td>500.000000</td>\n",
       "      <td>500.000000</td>\n",
       "      <td>500.000000</td>\n",
       "      <td>500.00000</td>\n",
       "      <td>500.000000</td>\n",
       "      <td>500.000000</td>\n",
       "    </tr>\n",
       "    <tr>\n",
       "      <th>mean</th>\n",
       "      <td>0.445603</td>\n",
       "      <td>0.506387</td>\n",
       "      <td>0.684110</td>\n",
       "      <td>0.533556</td>\n",
       "      <td>63.753071</td>\n",
       "      <td>0.202000</td>\n",
       "      <td>0.484000</td>\n",
       "      <td>0.890000</td>\n",
       "      <td>0.268000</td>\n",
       "      <td>0.228000</td>\n",
       "      <td>0.07800</td>\n",
       "      <td>0.618000</td>\n",
       "      <td>0.316000</td>\n",
       "    </tr>\n",
       "    <tr>\n",
       "      <th>std</th>\n",
       "      <td>0.162325</td>\n",
       "      <td>0.194923</td>\n",
       "      <td>0.214918</td>\n",
       "      <td>0.276109</td>\n",
       "      <td>7.114183</td>\n",
       "      <td>0.401894</td>\n",
       "      <td>0.500244</td>\n",
       "      <td>0.313203</td>\n",
       "      <td>0.443361</td>\n",
       "      <td>0.419963</td>\n",
       "      <td>0.26844</td>\n",
       "      <td>0.486363</td>\n",
       "      <td>0.465379</td>\n",
       "    </tr>\n",
       "    <tr>\n",
       "      <th>min</th>\n",
       "      <td>0.000000</td>\n",
       "      <td>0.000000</td>\n",
       "      <td>0.000000</td>\n",
       "      <td>0.000000</td>\n",
       "      <td>40.200403</td>\n",
       "      <td>0.000000</td>\n",
       "      <td>0.000000</td>\n",
       "      <td>0.000000</td>\n",
       "      <td>0.000000</td>\n",
       "      <td>0.000000</td>\n",
       "      <td>0.00000</td>\n",
       "      <td>0.000000</td>\n",
       "      <td>0.000000</td>\n",
       "    </tr>\n",
       "    <tr>\n",
       "      <th>25%</th>\n",
       "      <td>0.327727</td>\n",
       "      <td>0.380942</td>\n",
       "      <td>0.530386</td>\n",
       "      <td>0.333333</td>\n",
       "      <td>58.813933</td>\n",
       "      <td>0.000000</td>\n",
       "      <td>0.000000</td>\n",
       "      <td>1.000000</td>\n",
       "      <td>0.000000</td>\n",
       "      <td>0.000000</td>\n",
       "      <td>0.00000</td>\n",
       "      <td>0.000000</td>\n",
       "      <td>0.000000</td>\n",
       "    </tr>\n",
       "    <tr>\n",
       "      <th>50%</th>\n",
       "      <td>0.446577</td>\n",
       "      <td>0.505706</td>\n",
       "      <td>0.697383</td>\n",
       "      <td>0.555556</td>\n",
       "      <td>63.822553</td>\n",
       "      <td>0.000000</td>\n",
       "      <td>0.000000</td>\n",
       "      <td>1.000000</td>\n",
       "      <td>0.000000</td>\n",
       "      <td>0.000000</td>\n",
       "      <td>0.00000</td>\n",
       "      <td>1.000000</td>\n",
       "      <td>0.000000</td>\n",
       "    </tr>\n",
       "    <tr>\n",
       "      <th>75%</th>\n",
       "      <td>0.550575</td>\n",
       "      <td>0.630248</td>\n",
       "      <td>0.844194</td>\n",
       "      <td>0.777778</td>\n",
       "      <td>68.588277</td>\n",
       "      <td>0.000000</td>\n",
       "      <td>1.000000</td>\n",
       "      <td>1.000000</td>\n",
       "      <td>1.000000</td>\n",
       "      <td>0.000000</td>\n",
       "      <td>0.00000</td>\n",
       "      <td>1.000000</td>\n",
       "      <td>1.000000</td>\n",
       "    </tr>\n",
       "    <tr>\n",
       "      <th>max</th>\n",
       "      <td>1.000000</td>\n",
       "      <td>1.000000</td>\n",
       "      <td>1.000000</td>\n",
       "      <td>1.000000</td>\n",
       "      <td>92.007807</td>\n",
       "      <td>1.000000</td>\n",
       "      <td>1.000000</td>\n",
       "      <td>1.000000</td>\n",
       "      <td>1.000000</td>\n",
       "      <td>1.000000</td>\n",
       "      <td>1.00000</td>\n",
       "      <td>1.000000</td>\n",
       "      <td>1.000000</td>\n",
       "    </tr>\n",
       "  </tbody>\n",
       "</table>\n",
       "</div>"
      ],
      "text/plain": [
       "       study_hours_per_week  sleep_hours_per_day  attendance_percentage  \\\n",
       "count            500.000000           500.000000             500.000000   \n",
       "mean               0.445603             0.506387               0.684110   \n",
       "std                0.162325             0.194923               0.214918   \n",
       "min                0.000000             0.000000               0.000000   \n",
       "25%                0.327727             0.380942               0.530386   \n",
       "50%                0.446577             0.505706               0.697383   \n",
       "75%                0.550575             0.630248               0.844194   \n",
       "max                1.000000             1.000000               1.000000   \n",
       "\n",
       "       assignments_completed  final_grade  participation_level_Low  \\\n",
       "count             500.000000   500.000000               500.000000   \n",
       "mean                0.533556    63.753071                 0.202000   \n",
       "std                 0.276109     7.114183                 0.401894   \n",
       "min                 0.000000    40.200403                 0.000000   \n",
       "25%                 0.333333    58.813933                 0.000000   \n",
       "50%                 0.555556    63.822553                 0.000000   \n",
       "75%                 0.777778    68.588277                 0.000000   \n",
       "max                 1.000000    92.007807                 1.000000   \n",
       "\n",
       "       participation_level_Medium  internet_access_Yes  \\\n",
       "count                  500.000000           500.000000   \n",
       "mean                     0.484000             0.890000   \n",
       "std                      0.500244             0.313203   \n",
       "min                      0.000000             0.000000   \n",
       "25%                      0.000000             1.000000   \n",
       "50%                      0.000000             1.000000   \n",
       "75%                      1.000000             1.000000   \n",
       "max                      1.000000             1.000000   \n",
       "\n",
       "       parental_education_High School  parental_education_Master's  \\\n",
       "count                      500.000000                   500.000000   \n",
       "mean                         0.268000                     0.228000   \n",
       "std                          0.443361                     0.419963   \n",
       "min                          0.000000                     0.000000   \n",
       "25%                          0.000000                     0.000000   \n",
       "50%                          0.000000                     0.000000   \n",
       "75%                          1.000000                     0.000000   \n",
       "max                          1.000000                     1.000000   \n",
       "\n",
       "       parental_education_PhD  extracurricular_Yes  part_time_job_Yes  \n",
       "count               500.00000           500.000000         500.000000  \n",
       "mean                  0.07800             0.618000           0.316000  \n",
       "std                   0.26844             0.486363           0.465379  \n",
       "min                   0.00000             0.000000           0.000000  \n",
       "25%                   0.00000             0.000000           0.000000  \n",
       "50%                   0.00000             1.000000           0.000000  \n",
       "75%                   0.00000             1.000000           1.000000  \n",
       "max                   1.00000             1.000000           1.000000  "
      ]
     },
     "execution_count": 6,
     "metadata": {},
     "output_type": "execute_result"
    }
   ],
   "source": [
    "df.describe()"
   ]
  },
  {
   "cell_type": "code",
   "execution_count": null,
   "id": "d51f1c0d-7a12-44c2-884b-bf29ce2915c6",
   "metadata": {},
   "outputs": [],
   "source": [
    "# selected only specific column from the original table"
   ]
  },
  {
   "cell_type": "code",
   "execution_count": 7,
   "id": "16bab571-d722-45f4-afd7-6d7efa2b89bd",
   "metadata": {},
   "outputs": [],
   "source": [
    "df = df[['study_hours_per_week', 'sleep_hours_per_day', 'attendance_percentage', 'assignments_completed', 'final_grade']]"
   ]
  },
  {
   "cell_type": "code",
   "execution_count": 8,
   "id": "80c5de78-aea4-4b05-b718-d57f99a7d5e8",
   "metadata": {},
   "outputs": [
    {
     "data": {
      "text/html": [
       "<div>\n",
       "<style scoped>\n",
       "    .dataframe tbody tr th:only-of-type {\n",
       "        vertical-align: middle;\n",
       "    }\n",
       "\n",
       "    .dataframe tbody tr th {\n",
       "        vertical-align: top;\n",
       "    }\n",
       "\n",
       "    .dataframe thead th {\n",
       "        text-align: right;\n",
       "    }\n",
       "</style>\n",
       "<table border=\"1\" class=\"dataframe\">\n",
       "  <thead>\n",
       "    <tr style=\"text-align: right;\">\n",
       "      <th></th>\n",
       "      <th>study_hours_per_week</th>\n",
       "      <th>sleep_hours_per_day</th>\n",
       "      <th>attendance_percentage</th>\n",
       "      <th>assignments_completed</th>\n",
       "      <th>final_grade</th>\n",
       "    </tr>\n",
       "  </thead>\n",
       "  <tbody>\n",
       "    <tr>\n",
       "      <th>0</th>\n",
       "      <td>0.527230</td>\n",
       "      <td>0.685236</td>\n",
       "      <td>0.993245</td>\n",
       "      <td>0.222222</td>\n",
       "      <td>71.104897</td>\n",
       "    </tr>\n",
       "    <tr>\n",
       "      <th>1</th>\n",
       "      <td>0.421400</td>\n",
       "      <td>0.881883</td>\n",
       "      <td>0.883478</td>\n",
       "      <td>0.555556</td>\n",
       "      <td>62.240021</td>\n",
       "    </tr>\n",
       "    <tr>\n",
       "      <th>2</th>\n",
       "      <td>0.552393</td>\n",
       "      <td>0.220286</td>\n",
       "      <td>0.683469</td>\n",
       "      <td>1.000000</td>\n",
       "      <td>65.268855</td>\n",
       "    </tr>\n",
       "    <tr>\n",
       "      <th>3</th>\n",
       "      <td>0.698283</td>\n",
       "      <td>0.612594</td>\n",
       "      <td>0.520094</td>\n",
       "      <td>0.222222</td>\n",
       "      <td>66.609921</td>\n",
       "    </tr>\n",
       "    <tr>\n",
       "      <th>4</th>\n",
       "      <td>0.405419</td>\n",
       "      <td>0.369871</td>\n",
       "      <td>0.831127</td>\n",
       "      <td>0.333333</td>\n",
       "      <td>58.967484</td>\n",
       "    </tr>\n",
       "    <tr>\n",
       "      <th>...</th>\n",
       "      <td>...</td>\n",
       "      <td>...</td>\n",
       "      <td>...</td>\n",
       "      <td>...</td>\n",
       "      <td>...</td>\n",
       "    </tr>\n",
       "    <tr>\n",
       "      <th>495</th>\n",
       "      <td>0.534263</td>\n",
       "      <td>0.443780</td>\n",
       "      <td>1.000000</td>\n",
       "      <td>0.222222</td>\n",
       "      <td>67.032033</td>\n",
       "    </tr>\n",
       "    <tr>\n",
       "      <th>496</th>\n",
       "      <td>0.271570</td>\n",
       "      <td>0.859537</td>\n",
       "      <td>1.000000</td>\n",
       "      <td>0.333333</td>\n",
       "      <td>57.419677</td>\n",
       "    </tr>\n",
       "    <tr>\n",
       "      <th>497</th>\n",
       "      <td>0.412721</td>\n",
       "      <td>0.628169</td>\n",
       "      <td>0.949083</td>\n",
       "      <td>0.555556</td>\n",
       "      <td>74.950594</td>\n",
       "    </tr>\n",
       "    <tr>\n",
       "      <th>498</th>\n",
       "      <td>0.298508</td>\n",
       "      <td>0.385764</td>\n",
       "      <td>0.906468</td>\n",
       "      <td>0.333333</td>\n",
       "      <td>55.271003</td>\n",
       "    </tr>\n",
       "    <tr>\n",
       "      <th>499</th>\n",
       "      <td>0.213978</td>\n",
       "      <td>0.614517</td>\n",
       "      <td>0.806687</td>\n",
       "      <td>0.777778</td>\n",
       "      <td>60.375414</td>\n",
       "    </tr>\n",
       "  </tbody>\n",
       "</table>\n",
       "<p>500 rows × 5 columns</p>\n",
       "</div>"
      ],
      "text/plain": [
       "     study_hours_per_week  sleep_hours_per_day  attendance_percentage  \\\n",
       "0                0.527230             0.685236               0.993245   \n",
       "1                0.421400             0.881883               0.883478   \n",
       "2                0.552393             0.220286               0.683469   \n",
       "3                0.698283             0.612594               0.520094   \n",
       "4                0.405419             0.369871               0.831127   \n",
       "..                    ...                  ...                    ...   \n",
       "495              0.534263             0.443780               1.000000   \n",
       "496              0.271570             0.859537               1.000000   \n",
       "497              0.412721             0.628169               0.949083   \n",
       "498              0.298508             0.385764               0.906468   \n",
       "499              0.213978             0.614517               0.806687   \n",
       "\n",
       "     assignments_completed  final_grade  \n",
       "0                 0.222222    71.104897  \n",
       "1                 0.555556    62.240021  \n",
       "2                 1.000000    65.268855  \n",
       "3                 0.222222    66.609921  \n",
       "4                 0.333333    58.967484  \n",
       "..                     ...          ...  \n",
       "495               0.222222    67.032033  \n",
       "496               0.333333    57.419677  \n",
       "497               0.555556    74.950594  \n",
       "498               0.333333    55.271003  \n",
       "499               0.777778    60.375414  \n",
       "\n",
       "[500 rows x 5 columns]"
      ]
     },
     "execution_count": 8,
     "metadata": {},
     "output_type": "execute_result"
    }
   ],
   "source": [
    "df"
   ]
  },
  {
   "cell_type": "code",
   "execution_count": null,
   "id": "bc295dbc-2340-4bd2-a6fd-a47fa9a51666",
   "metadata": {},
   "outputs": [],
   "source": [
    "# checking for missing values"
   ]
  },
  {
   "cell_type": "code",
   "execution_count": 9,
   "id": "99ee5b65-d6cb-4c34-8f0f-7a91116d9825",
   "metadata": {},
   "outputs": [
    {
     "data": {
      "text/plain": [
       "study_hours_per_week     0\n",
       "sleep_hours_per_day      0\n",
       "attendance_percentage    0\n",
       "assignments_completed    0\n",
       "final_grade              0\n",
       "dtype: int64"
      ]
     },
     "execution_count": 9,
     "metadata": {},
     "output_type": "execute_result"
    }
   ],
   "source": [
    "df.isnull().sum()"
   ]
  },
  {
   "cell_type": "code",
   "execution_count": null,
   "id": "508d79e8-16c8-401e-9065-cad0a9eed003",
   "metadata": {},
   "outputs": [],
   "source": [
    "# checking the correlation between the \"final_grade\" and the other columns"
   ]
  },
  {
   "cell_type": "code",
   "execution_count": 10,
   "id": "db0d5d6f-77b8-4c50-999a-77c97a62d9c0",
   "metadata": {},
   "outputs": [
    {
     "data": {
      "text/plain": [
       "study_hours_per_week     0.517297\n",
       "sleep_hours_per_day      0.237757\n",
       "attendance_percentage    0.196920\n",
       "assignments_completed    0.389298\n",
       "final_grade              1.000000\n",
       "Name: final_grade, dtype: float64"
      ]
     },
     "execution_count": 10,
     "metadata": {},
     "output_type": "execute_result"
    }
   ],
   "source": [
    "df.select_dtypes(include=['number']).corr()[\"final_grade\"]"
   ]
  },
  {
   "cell_type": "code",
   "execution_count": 11,
   "id": "2baf616c-6ad3-46ca-ae56-c441ca4da131",
   "metadata": {},
   "outputs": [],
   "source": [
    "import seaborn as sns"
   ]
  },
  {
   "cell_type": "code",
   "execution_count": 12,
   "id": "90c0b5c4-8a4b-4088-8a47-775be6d9f115",
   "metadata": {},
   "outputs": [
    {
     "data": {
      "text/plain": [
       "<seaborn.axisgrid.FacetGrid at 0x23dc21057c0>"
      ]
     },
     "execution_count": 12,
     "metadata": {},
     "output_type": "execute_result"
    },
    {
     "data": {
      "image/png": "[encoded data removed]",
      "text/plain": [
       "<Figure size 500x500 with 1 Axes>"
      ]
     },
     "metadata": {},
     "output_type": "display_data"
    }
   ],
   "source": [
    "sns.lmplot(x='study_hours_per_week', y='final_grade', data=df, scatter_kws={'alpha':0.4}, ci=None)"
   ]
  },
  {
   "cell_type": "code",
   "execution_count": null,
   "id": "514311b6-097a-4a95-b242-d6471508475c",
   "metadata": {},
   "outputs": [],
   "source": [
    "# importing a function from a module within scikit-learn to split the dataset into train and test"
   ]
  },
  {
   "cell_type": "code",
   "execution_count": 13,
   "id": "03b3cf49-40df-47a0-a43a-ddd61e1c43be",
   "metadata": {},
   "outputs": [],
   "source": [
    "from sklearn.model_selection import train_test_split"
   ]
  },
  {
   "cell_type": "code",
   "execution_count": null,
   "id": "bf3d0547-f17d-498f-93ee-ef54bd435ec2",
   "metadata": {},
   "outputs": [],
   "source": [
    "# define predictors and targt"
   ]
  },
  {
   "cell_type": "code",
   "execution_count": 14,
   "id": "7d22fb68-44dc-4539-bfb5-e1927e86e95a",
   "metadata": {},
   "outputs": [],
   "source": [
    "X = df[['study_hours_per_week']]\n",
    "y = df['final_grade']"
   ]
  },
  {
   "cell_type": "code",
   "execution_count": null,
   "id": "98e5e3dc-b475-4369-86f5-a224821a2115",
   "metadata": {},
   "outputs": [],
   "source": [
    "# split the dataset into two, training and testing sets with 80% of data for training"
   ]
  },
  {
   "cell_type": "code",
   "execution_count": 15,
   "id": "478a5c28-3ec7-43fc-9a87-e943c0a4b735",
   "metadata": {},
   "outputs": [],
   "source": [
    "X_train, X_test, y_train, y_test = train_test_split(X, y, train_size = 0.8, random_state = 42)"
   ]
  },
  {
   "cell_type": "code",
   "execution_count": 16,
   "id": "bd593cde-ae0c-44d4-8f1d-17b6b7bcaed6",
   "metadata": {},
   "outputs": [
    {
     "data": {
      "text/plain": [
       "(100, 1)"
      ]
     },
     "execution_count": 16,
     "metadata": {},
     "output_type": "execute_result"
    }
   ],
   "source": [
    "X_test.shape"
   ]
  },
  {
   "cell_type": "code",
   "execution_count": 17,
   "id": "a0a4a0ed-3a39-4310-8405-859f4de45724",
   "metadata": {},
   "outputs": [
    {
     "data": {
      "text/plain": [
       "(400, 1)"
      ]
     },
     "execution_count": 17,
     "metadata": {},
     "output_type": "execute_result"
    }
   ],
   "source": [
    "X_train.shape"
   ]
  },
  {
   "cell_type": "code",
   "execution_count": 18,
   "id": "2ff1b0e4-a196-464c-a802-fd2af0b6cfdc",
   "metadata": {},
   "outputs": [
    {
     "data": {
      "text/plain": [
       "(100,)"
      ]
     },
     "execution_count": 18,
     "metadata": {},
     "output_type": "execute_result"
    }
   ],
   "source": [
    "y_test.shape"
   ]
  },
  {
   "cell_type": "code",
   "execution_count": 19,
   "id": "ec034f83-a024-4217-b198-556cca6df236",
   "metadata": {},
   "outputs": [
    {
     "data": {
      "text/plain": [
       "(400,)"
      ]
     },
     "execution_count": 19,
     "metadata": {},
     "output_type": "execute_result"
    }
   ],
   "source": [
    "y_train.shape"
   ]
  },
  {
   "cell_type": "code",
   "execution_count": 20,
   "id": "0994f9a3-a692-4a28-8d1d-1750e3ba2582",
   "metadata": {},
   "outputs": [
    {
     "data": {
      "text/html": [
       "<div>\n",
       "<style scoped>\n",
       "    .dataframe tbody tr th:only-of-type {\n",
       "        vertical-align: middle;\n",
       "    }\n",
       "\n",
       "    .dataframe tbody tr th {\n",
       "        vertical-align: top;\n",
       "    }\n",
       "\n",
       "    .dataframe thead th {\n",
       "        text-align: right;\n",
       "    }\n",
       "</style>\n",
       "<table border=\"1\" class=\"dataframe\">\n",
       "  <thead>\n",
       "    <tr style=\"text-align: right;\">\n",
       "      <th></th>\n",
       "      <th>study_hours_per_week</th>\n",
       "    </tr>\n",
       "  </thead>\n",
       "  <tbody>\n",
       "    <tr>\n",
       "      <th>249</th>\n",
       "      <td>0.511941</td>\n",
       "    </tr>\n",
       "    <tr>\n",
       "      <th>433</th>\n",
       "      <td>0.564035</td>\n",
       "    </tr>\n",
       "    <tr>\n",
       "      <th>19</th>\n",
       "      <td>0.209060</td>\n",
       "    </tr>\n",
       "    <tr>\n",
       "      <th>322</th>\n",
       "      <td>0.308074</td>\n",
       "    </tr>\n",
       "    <tr>\n",
       "      <th>332</th>\n",
       "      <td>0.457079</td>\n",
       "    </tr>\n",
       "    <tr>\n",
       "      <th>...</th>\n",
       "      <td>...</td>\n",
       "    </tr>\n",
       "    <tr>\n",
       "      <th>106</th>\n",
       "      <td>0.758809</td>\n",
       "    </tr>\n",
       "    <tr>\n",
       "      <th>270</th>\n",
       "      <td>0.684657</td>\n",
       "    </tr>\n",
       "    <tr>\n",
       "      <th>348</th>\n",
       "      <td>0.324704</td>\n",
       "    </tr>\n",
       "    <tr>\n",
       "      <th>435</th>\n",
       "      <td>0.456794</td>\n",
       "    </tr>\n",
       "    <tr>\n",
       "      <th>102</th>\n",
       "      <td>0.387325</td>\n",
       "    </tr>\n",
       "  </tbody>\n",
       "</table>\n",
       "<p>400 rows × 1 columns</p>\n",
       "</div>"
      ],
      "text/plain": [
       "     study_hours_per_week\n",
       "249              0.511941\n",
       "433              0.564035\n",
       "19               0.209060\n",
       "322              0.308074\n",
       "332              0.457079\n",
       "..                    ...\n",
       "106              0.758809\n",
       "270              0.684657\n",
       "348              0.324704\n",
       "435              0.456794\n",
       "102              0.387325\n",
       "\n",
       "[400 rows x 1 columns]"
      ]
     },
     "execution_count": 20,
     "metadata": {},
     "output_type": "execute_result"
    }
   ],
   "source": [
    "X_train"
   ]
  },
  {
   "cell_type": "code",
   "execution_count": null,
   "id": "b7e94691-1588-4f74-bd32-39d1ba19658e",
   "metadata": {},
   "outputs": [],
   "source": [
    "# training the model"
   ]
  },
  {
   "cell_type": "code",
   "execution_count": 21,
   "id": "4956a262-ba02-4db1-820e-243048427bb6",
   "metadata": {},
   "outputs": [],
   "source": [
    "from sklearn.linear_model import LinearRegression"
   ]
  },
  {
   "cell_type": "code",
   "execution_count": null,
   "id": "3b9e6a93-1ca1-4623-9cef-782dc338b958",
   "metadata": {},
   "outputs": [],
   "source": [
    "# calling the function imported"
   ]
  },
  {
   "cell_type": "code",
   "execution_count": 22,
   "id": "0aa72474-1158-42a8-83df-b081e8f4909b",
   "metadata": {},
   "outputs": [],
   "source": [
    "lm = LinearRegression()"
   ]
  },
  {
   "cell_type": "code",
   "execution_count": null,
   "id": "409fe722-d3ae-4833-8cf9-40ac977ff11d",
   "metadata": {},
   "outputs": [],
   "source": [
    "# train the model using the training sets"
   ]
  },
  {
   "cell_type": "code",
   "execution_count": 23,
   "id": "28d94664-9032-457d-93ff-15008034adb3",
   "metadata": {},
   "outputs": [
    {
     "data": {
      "text/html": [
       "<style>#sk-container-id-1 {\n",
       "  /* Definition of color scheme common for light and dark mode */\n",
       "  --sklearn-color-text: black;\n",
       "  --sklearn-color-line: gray;\n",
       "  /* Definition of color scheme for unfitted estimators */\n",
       "  --sklearn-color-unfitted-level-0: #fff5e6;\n",
       "  --sklearn-color-unfitted-level-1: #f6e4d2;\n",
       "  --sklearn-color-unfitted-level-2: #ffe0b3;\n",
       "  --sklearn-color-unfitted-level-3: chocolate;\n",
       "  /* Definition of color scheme for fitted estimators */\n",
       "  --sklearn-color-fitted-level-0: #f0f8ff;\n",
       "  --sklearn-color-fitted-level-1: #d4ebff;\n",
       "  --sklearn-color-fitted-level-2: #b3dbfd;\n",
       "  --sklearn-color-fitted-level-3: cornflowerblue;\n",
       "\n",
       "  /* Specific color for light theme */\n",
       "  --sklearn-color-text-on-default-background: var(--sg-text-color, var(--theme-code-foreground, var(--jp-content-font-color1, black)));\n",
       "  --sklearn-color-background: var(--sg-background-color, var(--theme-background, var(--jp-layout-color0, white)));\n",
       "  --sklearn-color-border-box: var(--sg-text-color, var(--theme-code-foreground, var(--jp-content-font-color1, black)));\n",
       "  --sklearn-color-icon: #696969;\n",
       "\n",
       "  @media (prefers-color-scheme: dark) {\n",
       "    /* Redefinition of color scheme for dark theme */\n",
       "    --sklearn-color-text-on-default-background: var(--sg-text-color, var(--theme-code-foreground, var(--jp-content-font-color1, white)));\n",
       "    --sklearn-color-background: var(--sg-background-color, var(--theme-background, var(--jp-layout-color0, #111)));\n",
       "    --sklearn-color-border-box: var(--sg-text-color, var(--theme-code-foreground, var(--jp-content-font-color1, white)));\n",
       "    --sklearn-color-icon: #878787;\n",
       "  }\n",
       "}\n",
       "\n",
       "#sk-container-id-1 {\n",
       "  color: var(--sklearn-color-text);\n",
       "}\n",
       "\n",
       "#sk-container-id-1 pre {\n",
       "  padding: 0;\n",
       "}\n",
       "\n",
       "#sk-container-id-1 input.sk-hidden--visually {\n",
       "  border: 0;\n",
       "  clip: rect(1px 1px 1px 1px);\n",
       "  clip: rect(1px, 1px, 1px, 1px);\n",
       "  height: 1px;\n",
       "  margin: -1px;\n",
       "  overflow: hidden;\n",
       "  padding: 0;\n",
       "  position: absolute;\n",
       "  width: 1px;\n",
       "}\n",
       "\n",
       "#sk-container-id-1 div.sk-dashed-wrapped {\n",
       "  border: 1px dashed var(--sklearn-color-line);\n",
       "  margin: 0 0.4em 0.5em 0.4em;\n",
       "  box-sizing: border-box;\n",
       "  padding-bottom: 0.4em;\n",
       "  background-color: var(--sklearn-color-background);\n",
       "}\n",
       "\n",
       "#sk-container-id-1 div.sk-container {\n",
       "  /* jupyter's `normalize.less` sets `[hidden] { display: none; }`\n",
       "     but bootstrap.min.css set `[hidden] { display: none !important; }`\n",
       "     so we also need the `!important` here to be able to override the\n",
       "     default hidden behavior on the sphinx rendered scikit-learn.org.\n",
       "     See: https://github.com/scikit-learn/scikit-learn/issues/21755 */\n",
       "  display: inline-block !important;\n",
       "  position: relative;\n",
       "}\n",
       "\n",
       "#sk-container-id-1 div.sk-text-repr-fallback {\n",
       "  display: none;\n",
       "}\n",
       "\n",
       "div.sk-parallel-item,\n",
       "div.sk-serial,\n",
       "div.sk-item {\n",
       "  /* draw centered vertical line to link estimators */\n",
       "  background-image: linear-gradient(var(--sklearn-color-text-on-default-background), var(--sklearn-color-text-on-default-background));\n",
       "  background-size: 2px 100%;\n",
       "  background-repeat: no-repeat;\n",
       "  background-position: center center;\n",
       "}\n",
       "\n",
       "/* Parallel-specific style estimator block */\n",
       "\n",
       "#sk-container-id-1 div.sk-parallel-item::after {\n",
       "  content: \"\";\n",
       "  width: 100%;\n",
       "  border-bottom: 2px solid var(--sklearn-color-text-on-default-background);\n",
       "  flex-grow: 1;\n",
       "}\n",
       "\n",
       "#sk-container-id-1 div.sk-parallel {\n",
       "  display: flex;\n",
       "  align-items: stretch;\n",
       "  justify-content: center;\n",
       "  background-color: var(--sklearn-color-background);\n",
       "  position: relative;\n",
       "}\n",
       "\n",
       "#sk-container-id-1 div.sk-parallel-item {\n",
       "  display: flex;\n",
       "  flex-direction: column;\n",
       "}\n",
       "\n",
       "#sk-container-id-1 div.sk-parallel-item:first-child::after {\n",
       "  align-self: flex-end;\n",
       "  width: 50%;\n",
       "}\n",
       "\n",
       "#sk-container-id-1 div.sk-parallel-item:last-child::after {\n",
       "  align-self: flex-start;\n",
       "  width: 50%;\n",
       "}\n",
       "\n",
       "#sk-container-id-1 div.sk-parallel-item:only-child::after {\n",
       "  width: 0;\n",
       "}\n",
       "\n",
       "/* Serial-specific style estimator block */\n",
       "\n",
       "#sk-container-id-1 div.sk-serial {\n",
       "  display: flex;\n",
       "  flex-direction: column;\n",
       "  align-items: center;\n",
       "  background-color: var(--sklearn-color-background);\n",
       "  padding-right: 1em;\n",
       "  padding-left: 1em;\n",
       "}\n",
       "\n",
       "\n",
       "/* Toggleable style: style used for estimator/Pipeline/ColumnTransformer box that is\n",
       "clickable and can be expanded/collapsed.\n",
       "- Pipeline and ColumnTransformer use this feature and define the default style\n",
       "- Estimators will overwrite some part of the style using the `sk-estimator` class\n",
       "*/\n",
       "\n",
       "/* Pipeline and ColumnTransformer style (default) */\n",
       "\n",
       "#sk-container-id-1 div.sk-toggleable {\n",
       "  /* Default theme specific background. It is overwritten whether we have a\n",
       "  specific estimator or a Pipeline/ColumnTransformer */\n",
       "  background-color: var(--sklearn-color-background);\n",
       "}\n",
       "\n",
       "/* Toggleable label */\n",
       "#sk-container-id-1 label.sk-toggleable__label {\n",
       "  cursor: pointer;\n",
       "  display: block;\n",
       "  width: 100%;\n",
       "  margin-bottom: 0;\n",
       "  padding: 0.5em;\n",
       "  box-sizing: border-box;\n",
       "  text-align: center;\n",
       "}\n",
       "\n",
       "#sk-container-id-1 label.sk-toggleable__label-arrow:before {\n",
       "  /* Arrow on the left of the label */\n",
       "  content: \"▸\";\n",
       "  float: left;\n",
       "  margin-right: 0.25em;\n",
       "  color: var(--sklearn-color-icon);\n",
       "}\n",
       "\n",
       "#sk-container-id-1 label.sk-toggleable__label-arrow:hover:before {\n",
       "  color: var(--sklearn-color-text);\n",
       "}\n",
       "\n",
       "/* Toggleable content - dropdown */\n",
       "\n",
       "#sk-container-id-1 div.sk-toggleable__content {\n",
       "  max-height: 0;\n",
       "  max-width: 0;\n",
       "  overflow: hidden;\n",
       "  text-align: left;\n",
       "  /* unfitted */\n",
       "  background-color: var(--sklearn-color-unfitted-level-0);\n",
       "}\n",
       "\n",
       "#sk-container-id-1 div.sk-toggleable__content.fitted {\n",
       "  /* fitted */\n",
       "  background-color: var(--sklearn-color-fitted-level-0);\n",
       "}\n",
       "\n",
       "#sk-container-id-1 div.sk-toggleable__content pre {\n",
       "  margin: 0.2em;\n",
       "  border-radius: 0.25em;\n",
       "  color: var(--sklearn-color-text);\n",
       "  /* unfitted */\n",
       "  background-color: var(--sklearn-color-unfitted-level-0);\n",
       "}\n",
       "\n",
       "#sk-container-id-1 div.sk-toggleable__content.fitted pre {\n",
       "  /* unfitted */\n",
       "  background-color: var(--sklearn-color-fitted-level-0);\n",
       "}\n",
       "\n",
       "#sk-container-id-1 input.sk-toggleable__control:checked~div.sk-toggleable__content {\n",
       "  /* Expand drop-down */\n",
       "  max-height: 200px;\n",
       "  max-width: 100%;\n",
       "  overflow: auto;\n",
       "}\n",
       "\n",
       "#sk-container-id-1 input.sk-toggleable__control:checked~label.sk-toggleable__label-arrow:before {\n",
       "  content: \"▾\";\n",
       "}\n",
       "\n",
       "/* Pipeline/ColumnTransformer-specific style */\n",
       "\n",
       "#sk-container-id-1 div.sk-label input.sk-toggleable__control:checked~label.sk-toggleable__label {\n",
       "  color: var(--sklearn-color-text);\n",
       "  background-color: var(--sklearn-color-unfitted-level-2);\n",
       "}\n",
       "\n",
       "#sk-container-id-1 div.sk-label.fitted input.sk-toggleable__control:checked~label.sk-toggleable__label {\n",
       "  background-color: var(--sklearn-color-fitted-level-2);\n",
       "}\n",
       "\n",
       "/* Estimator-specific style */\n",
       "\n",
       "/* Colorize estimator box */\n",
       "#sk-container-id-1 div.sk-estimator input.sk-toggleable__control:checked~label.sk-toggleable__label {\n",
       "  /* unfitted */\n",
       "  background-color: var(--sklearn-color-unfitted-level-2);\n",
       "}\n",
       "\n",
       "#sk-container-id-1 div.sk-estimator.fitted input.sk-toggleable__control:checked~label.sk-toggleable__label {\n",
       "  /* fitted */\n",
       "  background-color: var(--sklearn-color-fitted-level-2);\n",
       "}\n",
       "\n",
       "#sk-container-id-1 div.sk-label label.sk-toggleable__label,\n",
       "#sk-container-id-1 div.sk-label label {\n",
       "  /* The background is the default theme color */\n",
       "  color: var(--sklearn-color-text-on-default-background);\n",
       "}\n",
       "\n",
       "/* On hover, darken the color of the background */\n",
       "#sk-container-id-1 div.sk-label:hover label.sk-toggleable__label {\n",
       "  color: var(--sklearn-color-text);\n",
       "  background-color: var(--sklearn-color-unfitted-level-2);\n",
       "}\n",
       "\n",
       "/* Label box, darken color on hover, fitted */\n",
       "#sk-container-id-1 div.sk-label.fitted:hover label.sk-toggleable__label.fitted {\n",
       "  color: var(--sklearn-color-text);\n",
       "  background-color: var(--sklearn-color-fitted-level-2);\n",
       "}\n",
       "\n",
       "/* Estimator label */\n",
       "\n",
       "#sk-container-id-1 div.sk-label label {\n",
       "  font-family: monospace;\n",
       "  font-weight: bold;\n",
       "  display: inline-block;\n",
       "  line-height: 1.2em;\n",
       "}\n",
       "\n",
       "#sk-container-id-1 div.sk-label-container {\n",
       "  text-align: center;\n",
       "}\n",
       "\n",
       "/* Estimator-specific */\n",
       "#sk-container-id-1 div.sk-estimator {\n",
       "  font-family: monospace;\n",
       "  border: 1px dotted var(--sklearn-color-border-box);\n",
       "  border-radius: 0.25em;\n",
       "  box-sizing: border-box;\n",
       "  margin-bottom: 0.5em;\n",
       "  /* unfitted */\n",
       "  background-color: var(--sklearn-color-unfitted-level-0);\n",
       "}\n",
       "\n",
       "#sk-container-id-1 div.sk-estimator.fitted {\n",
       "  /* fitted */\n",
       "  background-color: var(--sklearn-color-fitted-level-0);\n",
       "}\n",
       "\n",
       "/* on hover */\n",
       "#sk-container-id-1 div.sk-estimator:hover {\n",
       "  /* unfitted */\n",
       "  background-color: var(--sklearn-color-unfitted-level-2);\n",
       "}\n",
       "\n",
       "#sk-container-id-1 div.sk-estimator.fitted:hover {\n",
       "  /* fitted */\n",
       "  background-color: var(--sklearn-color-fitted-level-2);\n",
       "}\n",
       "\n",
       "/* Specification for estimator info (e.g. \"i\" and \"?\") */\n",
       "\n",
       "/* Common style for \"i\" and \"?\" */\n",
       "\n",
       ".sk-estimator-doc-link,\n",
       "a:link.sk-estimator-doc-link,\n",
       "a:visited.sk-estimator-doc-link {\n",
       "  float: right;\n",
       "  font-size: smaller;\n",
       "  line-height: 1em;\n",
       "  font-family: monospace;\n",
       "  background-color: var(--sklearn-color-background);\n",
       "  border-radius: 1em;\n",
       "  height: 1em;\n",
       "  width: 1em;\n",
       "  text-decoration: none !important;\n",
       "  margin-left: 1ex;\n",
       "  /* unfitted */\n",
       "  border: var(--sklearn-color-unfitted-level-1) 1pt solid;\n",
       "  color: var(--sklearn-color-unfitted-level-1);\n",
       "}\n",
       "\n",
       ".sk-estimator-doc-link.fitted,\n",
       "a:link.sk-estimator-doc-link.fitted,\n",
       "a:visited.sk-estimator-doc-link.fitted {\n",
       "  /* fitted */\n",
       "  border: var(--sklearn-color-fitted-level-1) 1pt solid;\n",
       "  color: var(--sklearn-color-fitted-level-1);\n",
       "}\n",
       "\n",
       "/* On hover */\n",
       "div.sk-estimator:hover .sk-estimator-doc-link:hover,\n",
       ".sk-estimator-doc-link:hover,\n",
       "div.sk-label-container:hover .sk-estimator-doc-link:hover,\n",
       ".sk-estimator-doc-link:hover {\n",
       "  /* unfitted */\n",
       "  background-color: var(--sklearn-color-unfitted-level-3);\n",
       "  color: var(--sklearn-color-background);\n",
       "  text-decoration: none;\n",
       "}\n",
       "\n",
       "div.sk-estimator.fitted:hover .sk-estimator-doc-link.fitted:hover,\n",
       ".sk-estimator-doc-link.fitted:hover,\n",
       "div.sk-label-container:hover .sk-estimator-doc-link.fitted:hover,\n",
       ".sk-estimator-doc-link.fitted:hover {\n",
       "  /* fitted */\n",
       "  background-color: var(--sklearn-color-fitted-level-3);\n",
       "  color: var(--sklearn-color-background);\n",
       "  text-decoration: none;\n",
       "}\n",
       "\n",
       "/* Span, style for the box shown on hovering the info icon */\n",
       ".sk-estimator-doc-link span {\n",
       "  display: none;\n",
       "  z-index: 9999;\n",
       "  position: relative;\n",
       "  font-weight: normal;\n",
       "  right: .2ex;\n",
       "  padding: .5ex;\n",
       "  margin: .5ex;\n",
       "  width: min-content;\n",
       "  min-width: 20ex;\n",
       "  max-width: 50ex;\n",
       "  color: var(--sklearn-color-text);\n",
       "  box-shadow: 2pt 2pt 4pt #999;\n",
       "  /* unfitted */\n",
       "  background: var(--sklearn-color-unfitted-level-0);\n",
       "  border: .5pt solid var(--sklearn-color-unfitted-level-3);\n",
       "}\n",
       "\n",
       ".sk-estimator-doc-link.fitted span {\n",
       "  /* fitted */\n",
       "  background: var(--sklearn-color-fitted-level-0);\n",
       "  border: var(--sklearn-color-fitted-level-3);\n",
       "}\n",
       "\n",
       ".sk-estimator-doc-link:hover span {\n",
       "  display: block;\n",
       "}\n",
       "\n",
       "/* \"?\"-specific style due to the `<a>` HTML tag */\n",
       "\n",
       "#sk-container-id-1 a.estimator_doc_link {\n",
       "  float: right;\n",
       "  font-size: 1rem;\n",
       "  line-height: 1em;\n",
       "  font-family: monospace;\n",
       "  background-color: var(--sklearn-color-background);\n",
       "  border-radius: 1rem;\n",
       "  height: 1rem;\n",
       "  width: 1rem;\n",
       "  text-decoration: none;\n",
       "  /* unfitted */\n",
       "  color: var(--sklearn-color-unfitted-level-1);\n",
       "  border: var(--sklearn-color-unfitted-level-1) 1pt solid;\n",
       "}\n",
       "\n",
       "#sk-container-id-1 a.estimator_doc_link.fitted {\n",
       "  /* fitted */\n",
       "  border: var(--sklearn-color-fitted-level-1) 1pt solid;\n",
       "  color: var(--sklearn-color-fitted-level-1);\n",
       "}\n",
       "\n",
       "/* On hover */\n",
       "#sk-container-id-1 a.estimator_doc_link:hover {\n",
       "  /* unfitted */\n",
       "  background-color: var(--sklearn-color-unfitted-level-3);\n",
       "  color: var(--sklearn-color-background);\n",
       "  text-decoration: none;\n",
       "}\n",
       "\n",
       "#sk-container-id-1 a.estimator_doc_link.fitted:hover {\n",
       "  /* fitted */\n",
       "  background-color: var(--sklearn-color-fitted-level-3);\n",
       "}\n",
       "</style><div id=\"sk-container-id-1\" class=\"sk-top-container\"><div class=\"sk-text-repr-fallback\"><pre>LinearRegression()</pre><b>In a Jupyter environment, please rerun this cell to show the HTML representation or trust the notebook. <br />On GitHub, the HTML representation is unable to render, please try loading this page with nbviewer.org.</b></div><div class=\"sk-container\" hidden><div class=\"sk-item\"><div class=\"sk-estimator fitted sk-toggleable\"><input class=\"sk-toggleable__control sk-hidden--visually\" id=\"sk-estimator-id-1\" type=\"checkbox\" checked><label for=\"sk-estimator-id-1\" class=\"sk-toggleable__label fitted sk-toggleable__label-arrow fitted\">&nbsp;&nbsp;LinearRegression<a class=\"sk-estimator-doc-link fitted\" rel=\"noreferrer\" target=\"_blank\" href=\"https://scikit-learn.org/1.5/modules/generated/sklearn.linear_model.LinearRegression.html\">?<span>Documentation for LinearRegression</span></a><span class=\"sk-estimator-doc-link fitted\">i<span>Fitted</span></span></label><div class=\"sk-toggleable__content fitted\"><pre>LinearRegression()</pre></div> </div></div></div></div>"
      ],
      "text/plain": [
       "LinearRegression()"
      ]
     },
     "execution_count": 23,
     "metadata": {},
     "output_type": "execute_result"
    }
   ],
   "source": [
    "lm.fit(X_train, y_train)"
   ]
  },
  {
   "cell_type": "code",
   "execution_count": null,
   "id": "31d33a31-840f-4612-89d6-7e544e3a8ff7",
   "metadata": {},
   "outputs": [],
   "source": [
    "# creates a clean, labeled table (DataFrame) showing which features your linear regression model used, and what coefficient was learned for each one."
   ]
  },
  {
   "cell_type": "code",
   "execution_count": 24,
   "id": "16e6b871-b743-4663-8075-dcfc5df6e4d2",
   "metadata": {},
   "outputs": [
    {
     "name": "stdout",
     "output_type": "stream",
     "text": [
      "                           Coef\n",
      "study_hours_per_week  22.054591\n"
     ]
    }
   ],
   "source": [
    "cdf = pd.DataFrame(lm.coef_, X.columns, columns = ['Coef'])\n",
    "print(cdf)"
   ]
  },
  {
   "cell_type": "code",
   "execution_count": 25,
   "id": "73448887-0693-48e3-970c-86f24f88c5fd",
   "metadata": {},
   "outputs": [],
   "source": [
    "# predictions\n",
    "\n",
    "predictions = lm.predict(X_test)"
   ]
  },
  {
   "cell_type": "code",
   "execution_count": 26,
   "id": "e3dc539d-ca9c-4346-81b2-c8c07ff59c73",
   "metadata": {},
   "outputs": [
    {
     "data": {
      "text/plain": [
       "array([69.31703582, 69.43431016, 71.59764056, 61.05725953, 63.09019917,\n",
       "       68.01839244, 64.35696972, 65.84019641, 65.01233666, 63.45265393,\n",
       "       65.67737086, 64.31961998, 59.75872562, 60.71121497, 65.51357232,\n",
       "       67.17658237, 65.66395431, 61.47131538, 66.18974652, 64.12522606,\n",
       "       63.65374201, 69.12297463, 64.10031067, 63.61499763, 64.00301215,\n",
       "       63.8126681 , 62.98340729, 67.85712015, 62.13685416, 67.26735868,\n",
       "       62.76764958, 60.64871376, 65.09478195, 64.9370421 , 66.06379851,\n",
       "       61.19396016, 65.5740039 , 65.01145293, 75.935598  , 59.28607297,\n",
       "       60.8926542 , 62.47863847, 58.45517697, 66.30754569, 59.79515062,\n",
       "       62.58396677, 65.50885213, 61.97113438, 60.93178686, 63.93126539,\n",
       "       63.55135946, 59.74669826, 63.93506896, 66.29877672, 59.1040044 ,\n",
       "       67.10621456, 65.60158217, 60.34536433, 58.61905854, 64.02033863,\n",
       "       69.28169394, 53.88100722, 71.37417176, 64.43093211, 56.37721106,\n",
       "       64.40666323, 67.1939264 , 61.98984764, 61.25047596, 65.49122691,\n",
       "       66.8356029 , 64.57878452, 61.4767913 , 62.91803906, 62.54257984,\n",
       "       63.60621822, 62.06554739, 61.31173887, 60.76863326, 62.87081522,\n",
       "       64.76031315, 69.11543896, 64.82713003, 63.39963979, 65.87070501,\n",
       "       64.03988184, 65.98285379, 64.90455583, 66.7170842 , 63.93962364,\n",
       "       61.47982098, 58.11356109, 63.28327081, 59.98516396, 56.18730904,\n",
       "       58.5095413 , 67.04785075, 66.70416813, 57.42181379, 61.61621067])"
      ]
     },
     "execution_count": 26,
     "metadata": {},
     "output_type": "execute_result"
    }
   ],
   "source": [
    "predictions"
   ]
  },
  {
   "cell_type": "code",
   "execution_count": 27,
   "id": "ad9a9a27-8b3b-40f9-b7e7-1ba2bdf4b8cd",
   "metadata": {},
   "outputs": [],
   "source": [
    "import matplotlib.pyplot as plt"
   ]
  },
  {
   "cell_type": "code",
   "execution_count": null,
   "id": "0710b2b5-4ed8-4875-8542-33069a37ebe7",
   "metadata": {},
   "outputs": [],
   "source": [
    "# evaluating the trained ML model"
   ]
  },
  {
   "cell_type": "code",
   "execution_count": 28,
   "id": "329609f0-934d-494c-be2f-5b184d50f407",
   "metadata": {},
   "outputs": [
    {
     "data": {
      "text/plain": [
       "Text(0.5, 1.0, 'Evaluation of our ML model')"
      ]
     },
     "execution_count": 28,
     "metadata": {},
     "output_type": "execute_result"
    },
    {
     "data": {
      "image/png": "[encoded data removed]",
      "text/plain": [
       "<Figure size 640x480 with 1 Axes>"
      ]
     },
     "metadata": {},
     "output_type": "display_data"
    }
   ],
   "source": [
    "sns.scatterplot(x=predictions, y=y_test)\n",
    "plt.xlabel('Predictions')\n",
    "plt.ylabel('True Values')\n",
    "plt.title('Evaluation of our ML model')"
   ]
  },
  {
   "cell_type": "code",
   "execution_count": null,
   "id": "22f4fb46-cb5f-4ee5-a786-7b894b73cc0c",
   "metadata": {},
   "outputs": [],
   "source": [
    "# evaluating the model"
   ]
  },
  {
   "cell_type": "code",
   "execution_count": 31,
   "id": "c1a7b99c-5506-4466-9409-4c3f5424a31f",
   "metadata": {},
   "outputs": [],
   "source": [
    "from sklearn.metrics import mean_squared_error, mean_absolute_error, r2_score\n",
    "\n",
    "import math"
   ]
  },
  {
   "cell_type": "code",
   "execution_count": 33,
   "id": "ee0bbd29-0976-4b0f-9a9f-a1c50ccfc03b",
   "metadata": {},
   "outputs": [
    {
     "name": "stdout",
     "output_type": "stream",
     "text": [
      "Mean Absolute Error:  5.002207836331832\n",
      "Mean Squared Error:  40.80055870592151\n",
      "RMSE:  6.387531503321257\n",
      "R-squared:  0.27557755813550333\n"
     ]
    }
   ],
   "source": [
    "print('Mean Absolute Error: ', mean_absolute_error(y_test, predictions))\n",
    "print('Mean Squared Error: ', mean_squared_error(y_test, predictions))\n",
    "print('RMSE: ', math.sqrt(mean_squared_error(y_test, predictions)))\n",
    "\n",
    "r2 = r2_score(y_test, predictions)\n",
    "print(\"R-squared: \", r2)"
   ]
  },
  {
   "cell_type": "code",
   "execution_count": null,
   "id": "3ab7d9cd-79e1-4e2f-835e-4c2cc8835867",
   "metadata": {},
   "outputs": [],
   "source": []
  }
 ],
 "metadata": {
  "kernelspec": {
   "display_name": "Python 3 (ipykernel)",
   "language": "python",
   "name": "python3"
  },
  "language_info": {
   "codemirror_mode": {
    "name": "ipython",
    "version": 3
   },
   "file_extension": ".py",
   "mimetype": "text/x-python",
   "name": "python",
   "nbconvert_exporter": "python",
   "pygments_lexer": "ipython3",
   "version": "3.12.7"
  }
 },
 "nbformat": 4,
 "nbformat_minor": 5
}
